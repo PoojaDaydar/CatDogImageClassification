{
 "cells": [
  {
   "cell_type": "code",
   "execution_count": null,
   "id": "95b80f7b-db8e-4e4a-9d7d-f6616be97369",
   "metadata": {},
   "outputs": [],
   "source": [
    "import os\n",
    "import numpy\n",
    "import cv2\n",
    "import matplotlib.pyplot as \n",
    "import pickle\n",
    "import random\n",
    "import sklearn.model_selection import train_test_split\n",
    "from sklearn.svm import SVC"
   ]
  },
  {
   "cell_type": "code",
   "execution_count": null,
   "id": "4669569c-db19-4df6-855d-7b4c2b85c686",
   "metadata": {},
   "outputs": [],
   "source": [
    "plt.switch_backend('TkAgg')\n",
    "plt.ion\n",
    "base_dir = 'C:\\\\Users\\\\itspo\\\\Downloads\\\\MachineLearning\\\\Task3\\\\PetImages'"
   ]
  },
  {
   "cell_type": "code",
   "execution_count": null,
   "id": "3a84135f-7be9-4c5f-a6ad-eca80024a0e9",
   "metadata": {},
   "outputs": [],
   "source": [
    "categories = ['Cat','Dog']\n",
    "data = []"
   ]
  },
  {
   "cell_type": "code",
   "execution_count": null,
   "id": "1b882735-2056-4e5f-822c-230445042b2b",
   "metadata": {},
   "outputs": [],
   "source": [
    "for category in categories: \n",
    "    path = os.path.join(base_dir,category)\n",
    "    label = categories.index(category)\n",
    "    \n",
    "    for img in os.listdir(path):\n",
    "        imgpath = os.path.join(path,img)\n",
    "        pet_img = cv2.imread(imgpath,0)\n",
    "        try:\n",
    "            pet_img = cv2.resize(pet_img,(50,50))\n",
    "            image = np.array(pet_img).flatten\n",
    "            data.append([image,label])\n",
    "        except Exception as e:\n",
    "            pass\n",
    "\n",
    "with open('data1.pickle', 'wb') as pick_out:\n",
    "    pickle.dump(data, pick_out)\n",
    "\n",
    "with open('data1.pickle', 'rb') as pick_in:\n",
    "    data = pickle.load(pick_in)\n",
    "\n",
    "random.shuffle(data)\n",
    "features = []\n",
    "labels = []\n",
    "\n",
    "for feature,label in data:\n",
    "    features.append(feature)\n",
    "    labels.append(label)\n",
    "    \n",
    "xtrain,xtest,ytrain,ytest = train_test_split(features,labels,test_size = 0.98)   \n",
    "\n",
    "pick = open('model.sav','wb')\n",
    "model=pickle.load(pick)\n",
    "pick.close\n",
    "\n",
    "model = SVC(C = 1,kernel = 'poly',gamma = 'auto')\n",
    "model.fit(xtrain,ytrain)\n",
    "prediction = model.predict(xtest)\n",
    "accuracy = model.score(xtest,ytest)\n",
    "\n",
    "categories = ['Cat','Dog']\n",
    "print('Accuracy : ',accuracy)\n",
    "print('Prediction : ',categories[prediction[0]])\n",
    "\n",
    "mypet = xtest[0].reshape(50,50)\n",
    "plt.show(mypet,cmap = 'grey')\n",
    "plt.show\n",
    "plt.pause(3)"
   ]
  },
  {
   "cell_type": "code",
   "execution_count": null,
   "id": "7f872bab-27e0-42b3-9961-e33b1037b5d7",
   "metadata": {},
   "outputs": [],
   "source": []
  },
  {
   "cell_type": "code",
   "execution_count": null,
   "id": "ab0b8448-2cc4-408f-aafd-d3e007701607",
   "metadata": {},
   "outputs": [],
   "source": []
  }
 ],
 "metadata": {
  "kernelspec": {
   "display_name": "Python 3 (ipykernel)",
   "language": "python",
   "name": "python3"
  },
  "language_info": {
   "codemirror_mode": {
    "name": "ipython",
    "version": 3
   },
   "file_extension": ".py",
   "mimetype": "text/x-python",
   "name": "python",
   "nbconvert_exporter": "python",
   "pygments_lexer": "ipython3",
   "version": "3.11.7"
  }
 },
 "nbformat": 4,
 "nbformat_minor": 5
}
